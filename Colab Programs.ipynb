{
  "cells": [
    {
      "cell_type": "markdown",
      "metadata": {
        "id": "view-in-github",
        "colab_type": "text"
      },
      "source": [
        "<a href=\"https://colab.research.google.com/github/NithinSai0110/Natural-Language-Processing/blob/main/Colab%20Programs.ipynb\" target=\"_parent\"><img src=\"https://colab.research.google.com/assets/colab-badge.svg\" alt=\"Open In Colab\"/></a>"
      ]
    },
    {
      "cell_type": "markdown",
      "metadata": {
        "id": "9DhLSW6CB9se"
      },
      "source": [
        "Regular Expression"
      ]
    },
    {
      "cell_type": "code",
      "execution_count": null,
      "metadata": {
        "colab": {
          "base_uri": "https://localhost:8080/"
        },
        "id": "BmQB7RuG_6BS",
        "outputId": "7df801c4-c38e-4f58-952f-f18000384312"
      },
      "outputs": [
        {
          "name": "stdout",
          "output_type": "stream",
          "text": [
            "['regular', 'expression', 'are', 'a', 'powerful', 'tool', 'for', 'text', 'processing', 'they', 'can', 'be', 'used', 'for', 'pattern', 'matching', 'tokenization', 'and', 'more']\n"
          ]
        }
      ],
      "source": [
        "import re\n",
        "\n",
        "pattern = r'\\w+'\n",
        "text = \"regular expression are a powerful tool for text processing they can be used for pattern matching, tokenization, and more.\"\n",
        "words = re.findall(pattern, text)\n",
        "print(words)"
      ]
    },
    {
      "cell_type": "markdown",
      "metadata": {
        "id": "ltjExvHZB4y2"
      },
      "source": [
        "Morphology"
      ]
    },
    {
      "cell_type": "code",
      "execution_count": null,
      "metadata": {
        "colab": {
          "base_uri": "https://localhost:8080/"
        },
        "id": "Za5UXILbASp6",
        "outputId": "ed0817ec-3e1b-4bc1-91c4-5a6aa2bbbca5"
      },
      "outputs": [
        {
          "name": "stdout",
          "output_type": "stream",
          "text": [
            "['cat', 'be', 'chase', 'mouse', 'in', 'the', 'garden', '.', 'Its', 'intresting', 'to', 'watch', '.']\n"
          ]
        },
        {
          "name": "stderr",
          "output_type": "stream",
          "text": [
            "[nltk_data] Downloading package punkt to /root/nltk_data...\n",
            "[nltk_data]   Package punkt is already up-to-date!\n",
            "[nltk_data] Downloading package averaged_perceptron_tagger to\n",
            "[nltk_data]     /root/nltk_data...\n",
            "[nltk_data]   Package averaged_perceptron_tagger is already up-to-\n",
            "[nltk_data]       date!\n",
            "[nltk_data] Downloading package wordnet to /root/nltk_data...\n",
            "[nltk_data]   Package wordnet is already up-to-date!\n"
          ]
        }
      ],
      "source": [
        "import nltk\n",
        "nltk.download('punkt')\n",
        "nltk.download('averaged_perceptron_tagger')\n",
        "nltk.download('wordnet')\n",
        "from nltk.tokenize import word_tokenize\n",
        "from nltk.stem import WordNetLemmatizer\n",
        "from nltk.corpus import wordnet\n",
        "text = \"cats are chasing mice in the garden. Its intresting to watch.\"\n",
        "words = word_tokenize(text)\n",
        "lemmatizer = WordNetLemmatizer()\n",
        "\n",
        "def get_wordnet_pos(tag):\n",
        "    if tag.startswith('J'):\n",
        "        return wordnet.ADJ\n",
        "    elif tag.startswith('V'):\n",
        "        return wordnet.VERB\n",
        "    elif tag.startswith('N'):\n",
        "        return wordnet.NOUN\n",
        "    elif tag.startswith('R'):\n",
        "        return wordnet.ADV\n",
        "    else:\n",
        "        return wordnet.NOUN\n",
        "lemmatized_words = []\n",
        "for word, pos in nltk.pos_tag(words):\n",
        "    wordnet_tag = get_wordnet_pos(pos)\n",
        "    lemma = lemmatizer.lemmatize(word, wordnet_tag)\n",
        "    lemmatized_words.append(lemma)\n",
        "\n",
        "print(lemmatized_words)"
      ]
    },
    {
      "cell_type": "code",
      "execution_count": null,
      "metadata": {
        "colab": {
          "background_save": true,
          "base_uri": "https://localhost:8080/"
        },
        "id": "OBN3xTY0CMp6",
        "outputId": "c3ea777e-1276-4fb4-d19d-8a4b42190d1f"
      },
      "outputs": [
        {
          "name": "stdout",
          "output_type": "stream",
          "text": [
            "Hello! I'm your chatbot. You can type 'bye' to exit.\n",
            "Chatbot: I'm not sure I understand. Can you rephrase that?\n",
            "Chatbot: I'm not sure I understand. Can you rephrase that?\n"
          ]
        }
      ],
      "source": [
        "import random\n",
        "import re\n",
        "# Define patterns and responses\n",
        "patterns = {\n",
        "    r'(.)I need (.)': ['Why do you need {1}?', 'What would happen if you got {1}?', 'Tell me more about your need for {1}.'],\n",
        "    r'(.)I feel (.)': ['Why do you feel {1}?', 'How long have you been feeling {1}?', 'Can you describe your feelings in more detail?'],\n",
        "    r'(.)I (hate|dislike) (.)': ['Why do you hate {2}?', 'What makes you dislike {2}?', 'Tell me more about your feelings towards {2}.'],\n",
        "    r'(.)I (love|like) (.)': ['Why do you love {2}?', 'What makes you like {2}?', 'Tell me more about your feelings towards {2}.'],\n",
        "    r'(.*)(bye|goodbye)': ['Goodbye! Have a nice day.', 'It was nice talking to you. Goodbye!', 'Goodbye. Come back soon.'],\n",
        "}\n",
        "\n",
        "def respond(input_text):\n",
        "    for pattern, responses in patterns.items():\n",
        "        match = re.match(pattern, input_text, re.IGNORECASE)\n",
        "        if match:\n",
        "            response = random.choice(responses)\n",
        "            return response.format(*match.groups())\n",
        "    return \"I'm not sure I understand. Can you rephrase that?\"\n",
        "\n",
        "# Main conversation loop\n",
        "print(\"Hello! I'm your chatbot. You can type 'bye' to exit.\")\n",
        "while True:\n",
        "    user_input = input(\"You: \")\n",
        "    if user_input.lower() == 'bye':\n",
        "        print(\"Chatbot: Goodbye!\")\n",
        "        break\n",
        "    response = respond(user_input)\n",
        "    print(f\"Chatbot: {response}\")"
      ]
    },
    {
      "cell_type": "code",
      "source": [
        "import nltk\n",
        "from nltk.parse.generate import generate\n",
        "from nltk import CFG\n",
        "grammar=CFG.fromstring(\"\"\"\n",
        "S->NP VP\n",
        "NP->Det N\n",
        "VP->V NP\n",
        "Det->'the'|'a'\n",
        "N-> 'cat'|'dog'|'house'\n",
        "V->'chased'|'saw'\"\"\")\n",
        "parser=nltk.chartparser(grammar)\n",
        "sen=\"the cat chased dog\"\n",
        "tokems=sen.split()\n",
        "for tree in parser.parse(tokens):\n",
        "  tree.pretty_print()\n",
        "parse_t=list(parser.parse(tokens))"
      ],
      "metadata": {
        "colab": {
          "base_uri": "https://localhost:8080/",
          "height": 459
        },
        "id": "P42_lPHoVOma",
        "outputId": "a56df437-edf9-4f05-a58a-78c98288cba3"
      },
      "execution_count": 1,
      "outputs": [
        {
          "output_type": "error",
          "ename": "ValueError",
          "evalue": "ignored",
          "traceback": [
            "\u001b[0;31m---------------------------------------------------------------------------\u001b[0m",
            "\u001b[0;31mValueError\u001b[0m                                Traceback (most recent call last)",
            "\u001b[0;32m/usr/local/lib/python3.10/dist-packages/nltk/grammar.py\u001b[0m in \u001b[0;36mread_grammar\u001b[0;34m(input, nonterm_parser, probabilistic, encoding)\u001b[0m\n\u001b[1;32m   1434\u001b[0m                 \u001b[0;31m# expand out the disjunctions on the RHS\u001b[0m\u001b[0;34m\u001b[0m\u001b[0;34m\u001b[0m\u001b[0m\n\u001b[0;32m-> 1435\u001b[0;31m                 \u001b[0mproductions\u001b[0m \u001b[0;34m+=\u001b[0m \u001b[0m_read_production\u001b[0m\u001b[0;34m(\u001b[0m\u001b[0mline\u001b[0m\u001b[0;34m,\u001b[0m \u001b[0mnonterm_parser\u001b[0m\u001b[0;34m,\u001b[0m \u001b[0mprobabilistic\u001b[0m\u001b[0;34m)\u001b[0m\u001b[0;34m\u001b[0m\u001b[0;34m\u001b[0m\u001b[0m\n\u001b[0m\u001b[1;32m   1436\u001b[0m         \u001b[0;32mexcept\u001b[0m \u001b[0mValueError\u001b[0m \u001b[0;32mas\u001b[0m \u001b[0me\u001b[0m\u001b[0;34m:\u001b[0m\u001b[0;34m\u001b[0m\u001b[0;34m\u001b[0m\u001b[0m\n",
            "\u001b[0;32m/usr/local/lib/python3.10/dist-packages/nltk/grammar.py\u001b[0m in \u001b[0;36m_read_production\u001b[0;34m(line, nonterm_parser, probabilistic)\u001b[0m\n\u001b[1;32m   1338\u001b[0m     \u001b[0;32mif\u001b[0m \u001b[0;32mnot\u001b[0m \u001b[0mm\u001b[0m\u001b[0;34m:\u001b[0m\u001b[0;34m\u001b[0m\u001b[0;34m\u001b[0m\u001b[0m\n\u001b[0;32m-> 1339\u001b[0;31m         \u001b[0;32mraise\u001b[0m \u001b[0mValueError\u001b[0m\u001b[0;34m(\u001b[0m\u001b[0;34m\"Expected an arrow\"\u001b[0m\u001b[0;34m)\u001b[0m\u001b[0;34m\u001b[0m\u001b[0;34m\u001b[0m\u001b[0m\n\u001b[0m\u001b[1;32m   1340\u001b[0m     \u001b[0mpos\u001b[0m \u001b[0;34m=\u001b[0m \u001b[0mm\u001b[0m\u001b[0;34m.\u001b[0m\u001b[0mend\u001b[0m\u001b[0;34m(\u001b[0m\u001b[0;34m)\u001b[0m\u001b[0;34m\u001b[0m\u001b[0;34m\u001b[0m\u001b[0m\n",
            "\u001b[0;31mValueError\u001b[0m: Expected an arrow",
            "\nThe above exception was the direct cause of the following exception:\n",
            "\u001b[0;31mValueError\u001b[0m                                Traceback (most recent call last)",
            "\u001b[0;32m<ipython-input-1-6b09a159bbc2>\u001b[0m in \u001b[0;36m<cell line: 4>\u001b[0;34m()\u001b[0m\n\u001b[1;32m      2\u001b[0m \u001b[0;32mfrom\u001b[0m \u001b[0mnltk\u001b[0m\u001b[0;34m.\u001b[0m\u001b[0mparse\u001b[0m\u001b[0;34m.\u001b[0m\u001b[0mgenerate\u001b[0m \u001b[0;32mimport\u001b[0m \u001b[0mgenerate\u001b[0m\u001b[0;34m\u001b[0m\u001b[0;34m\u001b[0m\u001b[0m\n\u001b[1;32m      3\u001b[0m \u001b[0;32mfrom\u001b[0m \u001b[0mnltk\u001b[0m \u001b[0;32mimport\u001b[0m \u001b[0mCFG\u001b[0m\u001b[0;34m\u001b[0m\u001b[0;34m\u001b[0m\u001b[0m\n\u001b[0;32m----> 4\u001b[0;31m grammar=CFG.fromstring(\"\"\"\n\u001b[0m\u001b[1;32m      5\u001b[0m \u001b[0mS\u001b[0m\u001b[0;34m->\u001b[0m\u001b[0mNP\u001b[0m \u001b[0mVP\u001b[0m\u001b[0;34m\u001b[0m\u001b[0;34m\u001b[0m\u001b[0m\n\u001b[1;32m      6\u001b[0m \u001b[0mNP\u001b[0m\u001b[0;34m->\u001b[0m\u001b[0mDet\u001b[0m \u001b[0mN\u001b[0m\u001b[0;34m\u001b[0m\u001b[0;34m\u001b[0m\u001b[0m\n",
            "\u001b[0;32m/usr/local/lib/python3.10/dist-packages/nltk/grammar.py\u001b[0m in \u001b[0;36mfromstring\u001b[0;34m(cls, input, encoding)\u001b[0m\n\u001b[1;32m    545\u001b[0m         \u001b[0;34m:\u001b[0m\u001b[0mparam\u001b[0m \u001b[0minput\u001b[0m\u001b[0;34m:\u001b[0m \u001b[0ma\u001b[0m \u001b[0mgrammar\u001b[0m\u001b[0;34m,\u001b[0m \u001b[0meither\u001b[0m \u001b[0;32min\u001b[0m \u001b[0mthe\u001b[0m \u001b[0mform\u001b[0m \u001b[0mof\u001b[0m \u001b[0ma\u001b[0m \u001b[0mstring\u001b[0m \u001b[0;32mor\u001b[0m \u001b[0;32mas\u001b[0m \u001b[0ma\u001b[0m \u001b[0mlist\u001b[0m \u001b[0mof\u001b[0m \u001b[0mstrings\u001b[0m\u001b[0;34m.\u001b[0m\u001b[0;34m\u001b[0m\u001b[0;34m\u001b[0m\u001b[0m\n\u001b[1;32m    546\u001b[0m         \"\"\"\n\u001b[0;32m--> 547\u001b[0;31m         start, productions = read_grammar(\n\u001b[0m\u001b[1;32m    548\u001b[0m             \u001b[0minput\u001b[0m\u001b[0;34m,\u001b[0m \u001b[0mstandard_nonterm_parser\u001b[0m\u001b[0;34m,\u001b[0m \u001b[0mencoding\u001b[0m\u001b[0;34m=\u001b[0m\u001b[0mencoding\u001b[0m\u001b[0;34m\u001b[0m\u001b[0;34m\u001b[0m\u001b[0m\n\u001b[1;32m    549\u001b[0m         )\n",
            "\u001b[0;32m/usr/local/lib/python3.10/dist-packages/nltk/grammar.py\u001b[0m in \u001b[0;36mread_grammar\u001b[0;34m(input, nonterm_parser, probabilistic, encoding)\u001b[0m\n\u001b[1;32m   1435\u001b[0m                 \u001b[0mproductions\u001b[0m \u001b[0;34m+=\u001b[0m \u001b[0m_read_production\u001b[0m\u001b[0;34m(\u001b[0m\u001b[0mline\u001b[0m\u001b[0;34m,\u001b[0m \u001b[0mnonterm_parser\u001b[0m\u001b[0;34m,\u001b[0m \u001b[0mprobabilistic\u001b[0m\u001b[0;34m)\u001b[0m\u001b[0;34m\u001b[0m\u001b[0;34m\u001b[0m\u001b[0m\n\u001b[1;32m   1436\u001b[0m         \u001b[0;32mexcept\u001b[0m \u001b[0mValueError\u001b[0m \u001b[0;32mas\u001b[0m \u001b[0me\u001b[0m\u001b[0;34m:\u001b[0m\u001b[0;34m\u001b[0m\u001b[0;34m\u001b[0m\u001b[0m\n\u001b[0;32m-> 1437\u001b[0;31m             \u001b[0;32mraise\u001b[0m \u001b[0mValueError\u001b[0m\u001b[0;34m(\u001b[0m\u001b[0;34mf\"Unable to parse line {linenum + 1}: {line}\\n{e}\"\u001b[0m\u001b[0;34m)\u001b[0m \u001b[0;32mfrom\u001b[0m \u001b[0me\u001b[0m\u001b[0;34m\u001b[0m\u001b[0;34m\u001b[0m\u001b[0m\n\u001b[0m\u001b[1;32m   1438\u001b[0m \u001b[0;34m\u001b[0m\u001b[0m\n\u001b[1;32m   1439\u001b[0m     \u001b[0;32mif\u001b[0m \u001b[0;32mnot\u001b[0m \u001b[0mproductions\u001b[0m\u001b[0;34m:\u001b[0m\u001b[0;34m\u001b[0m\u001b[0;34m\u001b[0m\u001b[0m\n",
            "\u001b[0;31mValueError\u001b[0m: Unable to parse line 2: S->NP VP\nExpected an arrow"
          ]
        }
      ]
    },
    {
      "cell_type": "markdown",
      "source": [
        "Sentence Level Calc"
      ],
      "metadata": {
        "id": "PdEujBX_OvHT"
      }
    },
    {
      "cell_type": "code",
      "source": [
        "import spacy\n",
        "\n",
        "nlp = spacy.load('en_core_web_sm')\n",
        "sentence = \"I want to participate in league satage.\"\n",
        "doc = nlp(sentence)\n",
        "\n",
        "# Print token information\n",
        "for token in doc:\n",
        "    print(f\"Token: {token.text}, Lemma: {token.lemma_}, Pos: {token.pos_}\")\n",
        "\n",
        "# Prepositional phrases\n",
        "prepositional_phrases = [chunk.text for chunk in doc.noun_chunks if \"on\" in [token.text for token in chunk]]\n",
        "print(\"In Prepositional Phrases:\", prepositional_phrases)\n",
        "\n",
        "# Gerundive phrases\n",
        "gerundive_phrases = [chunk.text for chunk in doc.noun_chunks if \"ing\" in [token.text[-3:] for token in chunk]]\n",
        "print(\"In Gerundive Phrases:\", gerundive_phrases)\n",
        "\n",
        "# Infinitive clauses\n",
        "infinitive_clauses = [token.text for token in doc if token.dep_ == \"xcomp\"]\n",
        "print(\"In Non-finite clauses (Infinitive Clauses):\", infinitive_clauses)\n",
        "\n",
        "# Relative clauses\n",
        "relative_clauses = [token.text for token in doc if token.dep_ == \"relcl\"]\n",
        "print(\"In Relative clauses:\", relative_clauses)\n"
      ],
      "metadata": {
        "colab": {
          "base_uri": "https://localhost:8080/"
        },
        "id": "Duo578vQGBuX",
        "outputId": "5002d0cd-8317-4c1e-bec3-81a72fa9b8a2"
      },
      "execution_count": 2,
      "outputs": [
        {
          "output_type": "stream",
          "name": "stdout",
          "text": [
            "Token: I, Lemma: I, Pos: PRON\n",
            "Token: want, Lemma: want, Pos: VERB\n",
            "Token: to, Lemma: to, Pos: PART\n",
            "Token: participate, Lemma: participate, Pos: VERB\n",
            "Token: in, Lemma: in, Pos: ADP\n",
            "Token: league, Lemma: league, Pos: NOUN\n",
            "Token: satage, Lemma: satage, Pos: NOUN\n",
            "Token: ., Lemma: ., Pos: PUNCT\n",
            "In Prepositional Phrases: []\n",
            "In Gerundive Phrases: []\n",
            "In Non-finite clauses (Infinitive Clauses): ['participate']\n",
            "In Relative clauses: []\n"
          ]
        }
      ]
    },
    {
      "cell_type": "markdown",
      "source": [
        "Subcatorization\n"
      ],
      "metadata": {
        "id": "iwQBtMqyO2uh"
      }
    },
    {
      "cell_type": "code",
      "source": [
        "import spacy\n",
        "\n",
        "# Load the English spaCy model\n",
        "nlp = spacy.load(\"en_core_web_sm\")\n",
        "\n",
        "# Input sentence\n",
        "sentence = \"She eats an apple.\"\n",
        "\n",
        "# Process the sentence\n",
        "doc = nlp(sentence)\n",
        "\n",
        "# Extract subcategorization frames\n",
        "subcat_frames = {}\n",
        "\n",
        "for token in doc:\n",
        "    if token.dep_ == \"dobj\":  # Check if it's a direct object\n",
        "        verb = token.head.text\n",
        "        obj = token.text\n",
        "        if verb not in subcat_frames:\n",
        "            subcat_frames[verb] = []\n",
        "        subcat_frames[verb].append(obj)\n",
        "\n",
        "# Print the subcategorization frames for verb and objects in subcat_frames\n",
        "for verb, objects in subcat_frames.items():\n",
        "    print(f\"{verb} {', '.join(objects)}\")\n"
      ],
      "metadata": {
        "colab": {
          "base_uri": "https://localhost:8080/"
        },
        "id": "7fh6IDcePA9Z",
        "outputId": "15c7a1e8-ba0a-4000-8c9f-124374074a6f"
      },
      "execution_count": 4,
      "outputs": [
        {
          "output_type": "stream",
          "name": "stdout",
          "text": [
            "eats apple\n"
          ]
        }
      ]
    },
    {
      "cell_type": "code",
      "source": [
        "class DiscourseNode:\n",
        "    def __init__(self, text):\n",
        "        self.text = text\n",
        "        self.children = []\n",
        "\n",
        "    def add_child(self, child_node):\n",
        "        self.children.append(child_node)\n",
        "\n",
        "    def __str__(self):\n",
        "        result = self.text\n",
        "        if self.children:\n",
        "            child_strings = [str(child) for child in self.children]\n",
        "            result += \" -> \" + \" -> \".join(child_strings)\n",
        "        return result\n",
        "\n",
        "sentences = [\"ram the manager of abc company (s1)\", \"saw his friend Shyam at a shop (s2)\"]\n",
        "\n",
        "root = DiscourseNode(\"Discourse Root\")\n",
        "\n",
        "root.add_child(DiscourseNode(sentences[0]))\n",
        "root.add_child(DiscourseNode(sentences[1]))\n",
        "\n",
        "print(root)\n"
      ],
      "metadata": {
        "colab": {
          "base_uri": "https://localhost:8080/"
        },
        "id": "0oWlMZb_8UCz",
        "outputId": "a3be5283-d404-40b6-8951-b719189b4a42"
      },
      "execution_count": 3,
      "outputs": [
        {
          "output_type": "stream",
          "name": "stdout",
          "text": [
            "Discourse Root -> ram the manager of abc company (s1) -> saw his friend Shyam at a shop (s2)\n"
          ]
        }
      ]
    }
  ],
  "metadata": {
    "colab": {
      "provenance": [],
      "authorship_tag": "ABX9TyMOc1Ky0nDfbQs2ogEWbSSM",
      "include_colab_link": true
    },
    "kernelspec": {
      "display_name": "Python 3",
      "name": "python3"
    },
    "language_info": {
      "name": "python"
    }
  },
  "nbformat": 4,
  "nbformat_minor": 0
}